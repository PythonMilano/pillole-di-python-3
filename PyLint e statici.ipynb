{
 "cells": [
  {
   "cell_type": "markdown",
   "metadata": {
    "slideshow": {
     "slide_type": "slide"
    }
   },
   "source": [
    "# Linters e altri statici"
   ]
  },
  {
   "cell_type": "markdown",
   "metadata": {
    "slideshow": {
     "slide_type": "fragment"
    }
   },
   "source": [
    "Su stackoverflow\n",
    "\n",
    " - flake8 -> 535 risultati\n",
    " - pdb -> 14041 risultati"
   ]
  },
  {
   "cell_type": "markdown",
   "metadata": {
    "slideshow": {
     "slide_type": "slide"
    }
   },
   "source": [
    "- pylint\n",
    "- flake8: pyflake + pep8 (py**code**style) + mccabe\n",
    "- pep257 (py**doc**style)\n",
    "- mypy (ovvero pep484)\n",
    "- dodgy\n",
    "- pyroma\n",
    "- vulture\n",
    "- yafp\n",
    "- isort\n",
    "- coverage (e perché no)"
   ]
  },
  {
   "cell_type": "code",
   "execution_count": 1,
   "metadata": {
    "slideshow": {
     "slide_type": "slide"
    }
   },
   "outputs": [
    {
     "name": "stdout",
     "output_type": "stream",
     "text": [
      "\u001b[0m\u001b[01;34mforce\u001b[0m  requirements.txt  \u001b[01;32mset2net.py\u001b[0m\n"
     ]
    }
   ],
   "source": [
    "cd ~/playGround/infiniteVenn\n",
    "ls"
   ]
  },
  {
   "cell_type": "code",
   "execution_count": 2,
   "metadata": {
    "collapsed": true,
    "slideshow": {
     "slide_type": "fragment"
    }
   },
   "outputs": [],
   "source": [
    "source ~/envs/linters/bin/activate"
   ]
  },
  {
   "cell_type": "markdown",
   "metadata": {
    "slideshow": {
     "slide_type": "slide"
    }
   },
   "source": [
    "## Pylint\n",
    "\n",
    "\n",
    "`pip install pylint`\n",
    "\n",
    "\n"
   ]
  },
  {
   "cell_type": "markdown",
   "metadata": {
    "slideshow": {
     "slide_type": "fragment"
    }
   },
   "source": [
    "- molti falsi positivi\n",
    "- perché molto potente e avanzato\n",
    "- quindi molto lento\n",
    "- da molti warnings\n",
    "- per molti frameworks bisogna istallare dei plugins"
   ]
  },
  {
   "cell_type": "code",
   "execution_count": 3,
   "metadata": {
    "slideshow": {
     "slide_type": "slide"
    }
   },
   "outputs": [
    {
     "name": "stdout",
     "output_type": "stream",
     "text": [
      "************* Module set2net\n",
      "C:235, 0: Unnecessary parens after 'assert' keyword (superfluous-parens)\n",
      "C:  1, 0: Missing module docstring (missing-docstring)\n",
      "E: 10, 0: Unable to import 'scipy.special' (import-error)\n",
      "E: 13, 0: Unable to import 'networkx' (import-error)\n",
      "E: 14, 0: Unable to import 'networkx.readwrite' (import-error)\n",
      "C: 19, 0: Missing class docstring (missing-docstring)\n",
      "C: 23, 0: Missing class docstring (missing-docstring)\n",
      "C: 27, 0: Invalid argument name \"s\" (invalid-name)\n",
      "C: 63, 0: Invalid function name \"getAccessions\" (invalid-name)\n",
      "E: 67, 4: Unable to import 'xlrd' (import-error)\n",
      "C: 90, 0: Invalid argument name \"n\" (invalid-name)\n",
      "W: 90,17: Redefining name 'n' from outer scope (line 241) (redefined-outer-name)\n",
      "W:125,20: Redefining name 'rho' from outer scope (line 168) (redefined-outer-name)\n",
      "C:138, 4: Invalid variable name \"x\" (invalid-name)\n",
      "C:139, 4: Invalid variable name \"y\" (invalid-name)\n",
      "C:150, 4: Invalid constant name \"root\" (invalid-name)\n",
      "C:151, 4: Invalid constant name \"_files\" (invalid-name)\n",
      "C:156, 4: Invalid constant name \"sets\" (invalid-name)\n",
      "C:159, 4: Invalid constant name \"g\" (invalid-name)\n",
      "C:164, 4: Invalid constant name \"rot\" (invalid-name)\n",
      "C:166, 4: Invalid constant name \"c_ray\" (invalid-name)\n",
      "C:168, 4: Invalid constant name \"rho\" (invalid-name)\n",
      "C:227, 4: Invalid argument name \"n\" (invalid-name)\n",
      "C:227, 4: Missing function docstring (missing-docstring)\n",
      "W:227,18: Redefining name 'n' from outer scope (line 241) (redefined-outer-name)\n",
      "C:230, 4: Invalid constant name \"nodes\" (invalid-name)\n",
      "C:250, 4: Invalid constant name \"d\" (invalid-name)\n",
      "C: 11, 0: standard import \"import os\" should be placed before \"from scipy.special import binom\" (wrong-import-order)\n",
      "C: 12, 0: standard import \"from itertools import combinations\" should be placed before \"from scipy.special import binom\" (wrong-import-order)\n",
      "C: 15, 0: standard import \"import json\" should be placed before \"from scipy.special import binom\" (wrong-import-order)\n",
      "C: 16, 0: standard import \"from math import sqrt\" should be placed before \"from scipy.special import binom\" (wrong-import-order)\n",
      "\n",
      "------------------------------------------------------------------\n",
      "Your code has been rated at 4.66/10 (previous run: 4.66/10, +0.00)\n",
      "\n"
     ]
    },
    {
     "ename": "",
     "evalue": "22",
     "output_type": "error",
     "traceback": []
    }
   ],
   "source": [
    "pylint set2net.py"
   ]
  },
  {
   "cell_type": "markdown",
   "metadata": {
    "slideshow": {
     "slide_type": "slide"
    }
   },
   "source": [
    "- `R`: il refactoring è raccomandato\n",
    "- `C`: code style violation\n",
    "- `W`: warning\n",
    "- `E`: error or potential bug\n",
    "- `F`: fatal error - analisi ulteriori bloccate"
   ]
  },
  {
   "cell_type": "markdown",
   "metadata": {
    "slideshow": {
     "slide_type": "slide"
    }
   },
   "source": [
    "`pylint --generate-rcfile > .pylintrc`"
   ]
  },
  {
   "cell_type": "markdown",
   "metadata": {
    "slideshow": {
     "slide_type": "slide"
    }
   },
   "source": [
    "### Plugins\n",
    "\n",
    "Per i frameworks è meglio installare usare plugings, per esempio:\n",
    "\n",
    "`pip install pylint-django`\n",
    "\n",
    "ma ci sono anche per celery, flask, ecc.."
   ]
  },
  {
   "cell_type": "markdown",
   "metadata": {
    "slideshow": {
     "slide_type": "slide"
    }
   },
   "source": [
    "## Flake8\n",
    "\n",
    "`pip install flake8`"
   ]
  },
  {
   "cell_type": "code",
   "execution_count": 4,
   "metadata": {
    "slideshow": {
     "slide_type": "fragment"
    }
   },
   "outputs": [
    {
     "name": "stdout",
     "output_type": "stream",
     "text": [
      "3.4.1 (mccabe: 0.6.1, pycodestyle: 2.3.1, pyflakes: 1.5.0) CPython 3.6.1 on Linux\n"
     ]
    }
   ],
   "source": [
    "flake8 --version"
   ]
  },
  {
   "cell_type": "markdown",
   "metadata": {
    "slideshow": {
     "slide_type": "slide"
    }
   },
   "source": [
    "- Pep 8\n",
    "    - Identazione\n",
    "    - spazi `spam=21` o `def mia_func(spam = 21)`\n",
    "    - linee bianche\n",
    "    - linee troppo lunghe\n",
    "    - errori di sintassi\n",
    "    - confronti incorretti o superfli\n",
    "    - confronti di tipo `isinstance`\n",
    "- pyflake\n",
    "    - imports non usati\n",
    "    - wildcard negli imports (state attenti a PyCharm)\n",
    "    - import scorretti o `__future__` import scorretti\n",
    "    - redefinizione di nomi che sono stati importati\n",
    "    - variabili non usate\n",
    "    - riferimenti a variabili prima dell'assegnamento\n",
    "- pep8 namimng package\n",
    "    - `class NomeClasse`\n",
    "    - funzioni, argomenti e variabili non costanti in minuscolo\n",
    "    - `COSTANTE`\n",
    "    - `self` e `cls`\n",
    "- McCabe\n",
    "    - ciclomatic complexity -> M = E - N + 2P"
   ]
  },
  {
   "cell_type": "code",
   "execution_count": 5,
   "metadata": {
    "slideshow": {
     "slide_type": "slide"
    }
   },
   "outputs": [
    {
     "name": "stdout",
     "output_type": "stream",
     "text": [
      "set2net.py:148:5: E303 too many blank lines (2)\n",
      "set2net.py:237:80: E501 line too long (92 > 79 characters)\n"
     ]
    },
    {
     "ename": "",
     "evalue": "1",
     "output_type": "error",
     "traceback": []
    }
   ],
   "source": [
    "flake8 set2net.py"
   ]
  },
  {
   "cell_type": "code",
   "execution_count": 7,
   "metadata": {
    "slideshow": {
     "slide_type": "fragment"
    }
   },
   "outputs": [
    {
     "name": "stdout",
     "output_type": "stream",
     "text": [
      "set2net.py:143:1: C901 'If 143' is too complex (11)\n",
      "set2net.py:148:5: E303 too many blank lines (2)\n",
      "set2net.py:237:80: E501 line too long (92 > 79 characters)\n"
     ]
    },
    {
     "ename": "",
     "evalue": "1",
     "output_type": "error",
     "traceback": []
    }
   ],
   "source": [
    "flake8 --max-complexity 5 set2net.py"
   ]
  },
  {
   "cell_type": "markdown",
   "metadata": {
    "slideshow": {
     "slide_type": "slide"
    }
   },
   "source": [
    "Per configurare flake8:\n",
    " - `setup.cfg`\n",
    " - `tox.ini`\n",
    " - `flake8`"
   ]
  },
  {
   "cell_type": "markdown",
   "metadata": {
    "slideshow": {
     "slide_type": "slide"
    }
   },
   "source": [
    "### Plugins e altre aggiunte\n",
    "\n",
    "https://pypi.org/search/?q=flake8\n",
    "\n",
    "per esempio:\n",
    "\n",
    "`pip install flake8-module-import`\n",
    "\n",
    "\n",
    "ma ci sono anche opzioni per formattare l'output\n",
    "\n",
    "\n",
    "`pip install flake8-html`\n",
    "\n",
    "`flake8 --format=html --htmldir=flake-report`\n"
   ]
  },
  {
   "cell_type": "markdown",
   "metadata": {
    "slideshow": {
     "slide_type": "slide"
    }
   },
   "source": [
    "## pydocstyle\n",
    "\n",
    "`pip install pydocstyle` \n",
    "\n",
    "oppure\n",
    "\n",
    "`pip install pep257`"
   ]
  },
  {
   "cell_type": "code",
   "execution_count": 8,
   "metadata": {
    "slideshow": {
     "slide_type": "slide"
    }
   },
   "outputs": [
    {
     "name": "stdout",
     "output_type": "stream",
     "text": [
      "set2net.py:1 at module level:\n",
      "        D100: Missing docstring in public module\n",
      "set2net.py:19 in public class `Set2NetError`:\n",
      "        D101: Missing docstring in public class\n",
      "set2net.py:23 in public class `SetsError`:\n",
      "        D101: Missing docstring in public class\n",
      "set2net.py:27 in public function `purge`:\n",
      "        D400: First line should end with a period (not 's')\n",
      "set2net.py:39 in public function `intersect_em_all`:\n",
      "        D400: First line should end with a period (not 's')\n",
      "set2net.py:49 in public function `intersect_and_purge_by_indx`:\n",
      "        D205: 1 blank line required between summary line and description (found 0)\n",
      "set2net.py:49 in public function `intersect_and_purge_by_indx`:\n",
      "        D400: First line should end with a period (not 's')\n",
      "set2net.py:63 in public function `getAccessions`:\n",
      "        D200: One-line docstring should fit on one line with quotes (found 3)\n",
      "set2net.py:63 in public function `getAccessions`:\n",
      "        D400: First line should end with a period (not 'e')\n",
      "set2net.py:63 in public function `getAccessions`:\n",
      "        D401: First line should be in imperative mood ('Return', not 'Returns')\n",
      "set2net.py:77 in public function `polar_dist`:\n",
      "        D205: 1 blank line required between summary line and description (found 0)\n",
      "set2net.py:77 in public function `polar_dist`:\n",
      "        D400: First line should end with a period (not 's')\n",
      "set2net.py:90 in public function `sum_of_binom`:\n",
      "        D400: First line should end with a period (not 't')\n",
      "set2net.py:104 in public function `transl`:\n",
      "        D205: 1 blank line required between summary line and description (found 0)\n",
      "set2net.py:104 in public function `transl`:\n",
      "        D400: First line should end with a period (not ',')\n",
      "set2net.py:125 in public function `polar2cart`:\n",
      "        D400: First line should end with a period (not 'n')\n",
      "set2net.py:227 in public function `get_group`:\n",
      "        D103: Missing docstring in public function\n"
     ]
    },
    {
     "ename": "",
     "evalue": "1",
     "output_type": "error",
     "traceback": []
    }
   ],
   "source": [
    "pydocstyle set2net.py"
   ]
  },
  {
   "cell_type": "markdown",
   "metadata": {
    "slideshow": {
     "slide_type": "slide"
    }
   },
   "source": [
    "## mypy\n",
    "\n",
    "`pip install mypy`"
   ]
  },
  {
   "cell_type": "code",
   "execution_count": 9,
   "metadata": {
    "slideshow": {
     "slide_type": "slide"
    }
   },
   "outputs": [
    {
     "name": "stdout",
     "output_type": "stream",
     "text": [
      "set2net.py:10: error: No library stub file for module 'scipy.special'\n",
      "set2net.py:10: note: (Stub files are from https://github.com/python/typeshed)\n",
      "set2net.py:13: error: No library stub file for module 'networkx'\n",
      "set2net.py:14: error: No library stub file for module 'networkx.readwrite'\n",
      "set2net.py:67: error: No library stub file for module 'xlrd'\n",
      "set2net.py:224: error: Incompatible types in assignment (expression has type \"float\", variable has type \"int\")\n",
      "set2net.py:225: error: Incompatible types in assignment (expression has type \"float\", variable has type \"int\")\n"
     ]
    },
    {
     "ename": "",
     "evalue": "1",
     "output_type": "error",
     "traceback": []
    }
   ],
   "source": [
    "mypy set2net.py"
   ]
  },
  {
   "cell_type": "markdown",
   "metadata": {
    "slideshow": {
     "slide_type": "slide"
    }
   },
   "source": [
    "## Dodgy\n",
    "\n",
    "`pip install dodgy`"
   ]
  },
  {
   "cell_type": "code",
   "execution_count": 10,
   "metadata": {
    "slideshow": {
     "slide_type": "slide"
    }
   },
   "outputs": [
    {
     "name": "stdout",
     "output_type": "stream",
     "text": [
      "{\n",
      "  \"warnings\": []\n",
      "}\n"
     ]
    }
   ],
   "source": [
    "dodgy set2net.py"
   ]
  },
  {
   "cell_type": "markdown",
   "metadata": {
    "slideshow": {
     "slide_type": "slide"
    }
   },
   "source": [
    "## pyroma\n",
    "\n",
    "`pip install pyroma`"
   ]
  },
  {
   "cell_type": "code",
   "execution_count": 13,
   "metadata": {
    "slideshow": {
     "slide_type": "slide"
    }
   },
   "outputs": [
    {
     "name": "stdout",
     "output_type": "stream",
     "text": [
      "------------------------------\n",
      "Checking .\n",
      "Exception when running setup.\n",
      "Traceback (most recent call last):\n",
      "  File \"/home/pietro/envs/linters/lib/python3.6/site-packages/pyroma/projectdata.py\", line 136, in run_setup\n",
      "    f = open(script_name)\n",
      "FileNotFoundError: [Errno 2] No such file or directory: 'setup.py'\n",
      "Traceback (most recent call last):\n",
      "  File \"/home/pietro/envs/linters/bin/pyroma\", line 11, in <module>\n",
      "    load_entry_point('pyroma==2.2', 'console_scripts', 'pyroma')()\n",
      "  File \"/home/pietro/envs/linters/lib/python3.6/site-packages/pyroma/__init__.py\", line 63, in main\n",
      "    rating = run(mode, argument)\n",
      "  File \"/home/pietro/envs/linters/lib/python3.6/site-packages/pyroma/__init__.py\", line 75, in run\n",
      "    data = projectdata.get_data(os.path.abspath(argument))\n",
      "  File \"/home/pietro/envs/linters/lib/python3.6/site-packages/pyroma/projectdata.py\", line 167, in get_data\n",
      "    distro = run_setup('setup.py', stop_after='config')\n",
      "  File \"/home/pietro/envs/linters/lib/python3.6/site-packages/pyroma/projectdata.py\", line 151, in run_setup\n",
      "    script_name)\n",
      "RuntimeError: 'distutils.core.setup()' was never called -- perhaps 'setup.py' is not a Distutils setup script?\n"
     ]
    },
    {
     "ename": "",
     "evalue": "1",
     "output_type": "error",
     "traceback": []
    }
   ],
   "source": [
    "pyroma ."
   ]
  },
  {
   "cell_type": "markdown",
   "metadata": {
    "slideshow": {
     "slide_type": "slide"
    }
   },
   "source": [
    "## vulture\n",
    "\n",
    "`pip install vulture`"
   ]
  },
  {
   "cell_type": "code",
   "execution_count": 14,
   "metadata": {
    "collapsed": true,
    "slideshow": {
     "slide_type": "slide"
    }
   },
   "outputs": [],
   "source": [
    "vulture set2net.py"
   ]
  },
  {
   "cell_type": "markdown",
   "metadata": {
    "slideshow": {
     "slide_type": "slide"
    }
   },
   "source": [
    "## yapf\n",
    "\n",
    "`pip install yapf`\n",
    "\n",
    "È anche un formatter!!! `--inplace`\n",
    "\n",
    "Può essere configurato:\n",
    "    - `[style]` -> `.style.yapf`\n",
    "    - `[yapf]` -> `setup.cfg`"
   ]
  },
  {
   "cell_type": "code",
   "execution_count": 17,
   "metadata": {
    "slideshow": {
     "slide_type": "slide"
    }
   },
   "outputs": [
    {
     "name": "stdout",
     "output_type": "stream",
     "text": [
      "--- set2net.py\t(original)\n",
      "+++ set2net.py\t(reformatted)\n",
      "@@ -56,8 +56,8 @@\n",
      "     \"\"\"\n",
      "     to_inte = [all_sets[i] for i in indexes]\n",
      "     s_i = intersect_em_all(to_inte)\n",
      "-    return purge(s_i, [all_sets[j] for j in range(len(all_sets))\n",
      "-                       if j not in indexes])\n",
      "+    return purge(\n",
      "+        s_i, [all_sets[j] for j in range(len(all_sets)) if j not in indexes])\n",
      " \n",
      " \n",
      " def getAccessions(xls_file, sheet_indx=0):\n",
      "@@ -70,8 +70,7 @@\n",
      " \n",
      "     acc_indx = sheet.row_values(0).index('Accession')\n",
      " \n",
      "-    return (acc\n",
      "-            for acc in sheet.col_values(acc_indx, 1))\n",
      "+    return (acc for acc in sheet.col_values(acc_indx, 1))\n",
      " \n",
      " \n",
      " def polar_dist(n_angles):\n",
      "@@ -137,21 +136,20 @@\n",
      "     from math import cos, sin\n",
      "     x = rho * cos(phi)\n",
      "     y = rho * sin(phi)\n",
      "-    return(x, y)\n",
      "+    return (x, y)\n",
      " \n",
      " \n",
      " if __name__ == \"__main__\":\n",
      "     # import doctest\n",
      "     # doctest.testmod()\n",
      " \n",
      "-\n",
      "     # 1. Read excel files\n",
      " \n",
      "     root = r\"../ExampleFile/AnnaMaria_7up\"\n",
      "     _files = [\n",
      "-        \"E1004.xls\", \"E973.xls\", \"E974.xls\",\n",
      "-        \"E976.xls\", \"M917.xls\", \"M995.xls\",\n",
      "-        \"WT459.xls\"]\n",
      "+        \"E1004.xls\", \"E973.xls\", \"E974.xls\", \"E976.xls\", \"M917.xls\",\n",
      "+        \"M995.xls\", \"WT459.xls\"\n",
      "+    ]\n",
      " \n",
      "     sets = [set(getAccessions(os.path.join(root, f))) for f in _files]\n",
      " \n",
      "@@ -188,28 +186,31 @@\n",
      " \n",
      "         # traslate on the screen coordinates,\n",
      "         # pay attentions to the borders\n",
      "-        coords = list(zip([transl(c[0], 480, 950, 10) for c in coords],\n",
      "-                          [transl(c[1], 250, 490, 10) for c in coords]))\n",
      "+        coords = list(\n",
      "+            zip([transl(c[0], 480, 950, 10) for c in coords],\n",
      "+                [transl(c[1], 250, 490, 10) for c in coords]))\n",
      " \n",
      "         # I need to know the subsets' `max_size` to\n",
      "         # adjust the position of the next cycle\n",
      "         # the update is at the end of the file\n",
      "         max_size = 0\n",
      "-        for j, c in enumerate(combinations(range(len(sets)),\n",
      "-                                           n_sets_to_inters)):\n",
      "+        for j, c in enumerate(\n",
      "+                combinations(range(len(sets)), n_sets_to_inters)):\n",
      "             # adding a node to the graph\n",
      "             name = ('_'.join([_files[k][:-4] for k in c]))\n",
      "             sub_set = intersect_and_purge_by_indx(c, sets)\n",
      "             size = len(sub_set)\n",
      "             g.add_node(\n",
      "-                name, size=size,\n",
      "+                name,\n",
      "+                size=size,\n",
      "                 group=n_sets_to_inters,\n",
      "-                x=coords[j][0], y=coords[j][1])\n",
      "+                x=coords[j][0],\n",
      "+                y=coords[j][1])\n",
      " \n",
      "             # writing in csv the subset\n",
      "             with open('../sub_sets/%s.csv' % (name, ), 'wb') as out_file:\n",
      "                 out_file.write(\n",
      "-                    bytes('\\n'.join([\"%d\" % (int(acc),)\n",
      "+                    bytes('\\n'.join([\"%d\" % (int(acc), )\n",
      "                                      for acc in sub_set]), 'UTF-8'))\n",
      " \n",
      "             # update the max_sixe\n",
      "@@ -218,11 +219,11 @@\n",
      "         # rotate the inner well of an half of the increment of the outer\n",
      "         # except for the innest one, that has `i` equal to sets.\n",
      "         if n_sets_to_inters < len(sets):\n",
      "-            rot = phis[1]/2\n",
      "+            rot = phis[1] / 2\n",
      " \n",
      "         # updating `rho`\n",
      "         c_ray = sqrt(max_size) + 1\n",
      "-        rho += 250/(len(sets)) + c_ray\n",
      "+        rho += 250 / (len(sets)) + c_ray\n",
      " \n",
      "     def get_group(n):\n",
      "         return n[1]['group']\n",
      "@@ -232,19 +233,18 @@\n",
      "     # check if the number of nodes generated\n",
      "     # is as expected\n",
      "     try:\n",
      "-        assert(len(nodes) == sum_of_binom(len(sets)))\n",
      "+        assert (len(nodes) == sum_of_binom(len(sets)))\n",
      "     except AssertError:\n",
      "-        raise SetsError('The number of sets obtained {} is not equal to expected {}'.format(\n",
      "-            len(nodes), sum_of_binom(len(sets))))\n",
      "+        raise SetsError(\n",
      "+            'The number of sets obtained {} is not equal to expected {}'.\n",
      "+            format(len(nodes), sum_of_binom(len(sets))))\n",
      " \n",
      "     # 5. adding edge to the graph.\n",
      "     for i, n in enumerate(nodes):\n",
      "         for m in nodes:\n",
      "             if (any(part in m[0].split('_') for part in n[0].split('_'))\n",
      "                     and get_group(n) - get_group(m) == 1):\n",
      "-                g.add_edge(\n",
      "-                    n[0], m[0],\n",
      "-                    value=get_group(m) - get_group(n))\n",
      "+                g.add_edge(n[0], m[0], value=get_group(m) - get_group(n))\n",
      " \n",
      "     # 6. write the result in a json\n",
      "     d = json_graph.node_link_data(g)  # node-link format to serialize\n"
     ]
    },
    {
     "ename": "",
     "evalue": "1",
     "output_type": "error",
     "traceback": []
    }
   ],
   "source": [
    "yapf --diff --style=pep8 set2net.py"
   ]
  },
  {
   "cell_type": "markdown",
   "metadata": {
    "slideshow": {
     "slide_type": "slide"
    }
   },
   "source": [
    "## isort\n",
    "\n",
    "`pip install isort`\n",
    "\n",
    "Attenzione: è un formatter!"
   ]
  },
  {
   "cell_type": "code",
   "execution_count": 18,
   "metadata": {
    "collapsed": true,
    "slideshow": {
     "slide_type": "slide"
    }
   },
   "outputs": [],
   "source": [
    "isort set2net.py"
   ]
  },
  {
   "cell_type": "code",
   "execution_count": 19,
   "metadata": {
    "slideshow": {
     "slide_type": "fragment"
    }
   },
   "outputs": [
    {
     "name": "stdout",
     "output_type": "stream",
     "text": [
      "\u001b[1mdiff --git a/set2net.py b/set2net.py\u001b[m\n",
      "\u001b[1mindex c05ae76..3bebcb7 100755\u001b[m\n",
      "\u001b[1m--- a/set2net.py\u001b[m\n",
      "\u001b[1m+++ b/set2net.py\u001b[m\n",
      "\u001b[36m@@ -1,19 +1,21 @@\u001b[m\n",
      " #!/usr/bin/env python3\u001b[m\n",
      " \u001b[m\n",
      "\u001b[32m+\u001b[m\n",
      "\u001b[32m+\u001b[m\u001b[32mimport json\u001b[m\n",
      "\u001b[32m+\u001b[m\u001b[32mimport os\u001b[m\n",
      "\u001b[32m+\u001b[m\u001b[32mfrom collections import deque\u001b[m\n",
      "\u001b[32m+\u001b[m\u001b[32mfrom copy import deepcopy\u001b[m\n",
      " # from functools import reduce, partial\u001b[m\n",
      "\u001b[31m-# Hacks: I use `sub` to make sets difference\u001b[m\n",
      "\u001b[31m-# and `and_` for sets intersection\u001b[m\n",
      "\u001b[31m-from operator import sub, and_\u001b[m\n",
      " from functools import reduce\u001b[m\n",
      "\u001b[31m-from copy import deepcopy\u001b[m\n",
      "\u001b[31m-from collections import deque\u001b[m\n",
      "\u001b[31m-from scipy.special import binom\u001b[m\n",
      "\u001b[31m-import os\u001b[m\n",
      " from itertools import combinations\u001b[m\n",
      "\u001b[32m+\u001b[m\u001b[32mfrom math import sqrt\u001b[m\n",
      "\u001b[32m+\u001b[m\u001b[32m# Hacks: I use `sub` to make sets difference\u001b[m\n",
      "\u001b[32m+\u001b[m\u001b[32m# and `and_` for sets intersection\u001b[m\n",
      "\u001b[32m+\u001b[m\u001b[32mfrom operator import and_, sub\u001b[m\n",
      "\u001b[32m+\u001b[m\n",
      " import networkx as nx\u001b[m\n",
      " from networkx.readwrite import json_graph\u001b[m\n",
      "\u001b[31m-import json\u001b[m\n",
      "\u001b[31m-from math import sqrt\u001b[m\n",
      "\u001b[32m+\u001b[m\u001b[32mfrom scipy.special import binom\u001b[m\n",
      " \u001b[m\n",
      " \u001b[m\n",
      " class Set2NetError(Exception):\u001b[m\n"
     ]
    }
   ],
   "source": [
    "git diff"
   ]
  },
  {
   "cell_type": "code",
   "execution_count": 20,
   "metadata": {
    "collapsed": true,
    "slideshow": {
     "slide_type": "fragment"
    }
   },
   "outputs": [],
   "source": [
    "git checkout set2net.py"
   ]
  },
  {
   "cell_type": "markdown",
   "metadata": {
    "slideshow": {
     "slide_type": "slide"
    }
   },
   "source": [
    "## coverage\n",
    "\n",
    "`pip install coverage`"
   ]
  },
  {
   "cell_type": "code",
   "execution_count": 24,
   "metadata": {
    "slideshow": {
     "slide_type": "slide"
    }
   },
   "outputs": [
    {
     "name": "stdout",
     "output_type": "stream",
     "text": [
      "Name         Stmts   Miss  Cover   Missing\n",
      "------------------------------------------\n",
      "set2net.py      88     83     6%   11-251\n"
     ]
    }
   ],
   "source": [
    "coverage report -m set2net.py"
   ]
  },
  {
   "cell_type": "markdown",
   "metadata": {
    "collapsed": true,
    "slideshow": {
     "slide_type": "slide"
    }
   },
   "source": [
    "# #yesqa\n",
    "\n",
    "https://github.com/PyCQA/pycodestyle/issues/476"
   ]
  },
  {
   "cell_type": "code",
   "execution_count": null,
   "metadata": {
    "collapsed": true
   },
   "outputs": [],
   "source": []
  }
 ],
 "metadata": {
  "celltoolbar": "Slideshow",
  "kernelspec": {
   "display_name": "Bash",
   "language": "bash",
   "name": "bash"
  },
  "language_info": {
   "codemirror_mode": "shell",
   "file_extension": ".sh",
   "mimetype": "text/x-sh",
   "name": "bash"
  }
 },
 "nbformat": 4,
 "nbformat_minor": 2
}
